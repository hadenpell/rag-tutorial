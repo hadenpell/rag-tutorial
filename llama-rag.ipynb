{
 "cells": [
  {
   "cell_type": "code",
   "execution_count": 1,
   "metadata": {},
   "outputs": [],
   "source": [
    "import nest_asyncio\n",
    "import os\n",
    "\n",
    "from llama_index.llms.openai import OpenAI\n",
    "from llama_index.indices.managed.llama_cloud import LlamaCloudIndex\n",
    "\n",
    "from IPython.display import display, Markdown\n",
    "\n",
    "from llama_index.core.tools import QueryEngineTool"
   ]
  },
  {
   "cell_type": "code",
   "execution_count": 2,
   "metadata": {},
   "outputs": [],
   "source": [
    "nest_asyncio.apply()"
   ]
  },
  {
   "cell_type": "code",
   "execution_count": 3,
   "metadata": {},
   "outputs": [],
   "source": [
    "index = LlamaCloudIndex(\n",
    "  name=os.getenv(\"INDEX_NAME\"), \n",
    "  project_name=\"Default\",\n",
    "  organization_id=os.getenv(\"ORG_ID\"),\n",
    "  api_key=os.getenv(\"LLAMA_API_KEY\")\n",
    ")"
   ]
  },
  {
   "cell_type": "code",
   "execution_count": 4,
   "metadata": {},
   "outputs": [],
   "source": [
    "query = \"What about DC?\""
   ]
  },
  {
   "cell_type": "code",
   "execution_count": 5,
   "metadata": {},
   "outputs": [],
   "source": [
    "response = index.as_query_engine().query(query)"
   ]
  },
  {
   "cell_type": "code",
   "execution_count": 7,
   "metadata": {},
   "outputs": [
    {
     "data": {
      "text/plain": [
       "'Washington, D.C. is the capital city and federal district of the United States. It was named after George Washington, the first president of the United States, and is not part of any state. The city was founded in 1791 and serves as the seat of the U.S. federal government. Washington, D.C. is known for its historical significance, hosting various national monuments, museums, and government buildings. Additionally, the city is recognized for its diverse culture, arts scene, cuisine, and as a major political and tourist destination.'"
      ]
     },
     "execution_count": 7,
     "metadata": {},
     "output_type": "execute_result"
    }
   ],
   "source": [
    "response.response"
   ]
  },
  {
   "cell_type": "code",
   "execution_count": null,
   "metadata": {},
   "outputs": [
    {
     "data": {
      "text/markdown": [
       "Washington, D.C. is the capital city and federal district of the United States. It was named after George Washington, the first president of the United States, and is not part of any state. The city was founded in 1791 and serves as the seat of the U.S. federal government. Washington, D.C. is known for its historical significance, hosting various federal government headquarters, national monuments, museums, and international organizations. Additionally, the city is recognized for its diverse culture, arts scene, cuisine, and as a major tourist destination."
      ],
      "text/plain": [
       "<IPython.core.display.Markdown object>"
      ]
     },
     "metadata": {},
     "output_type": "display_data"
    }
   ],
   "source": [
    "display(Markdown(response.response))"
   ]
  },
  {
   "cell_type": "markdown",
   "metadata": {},
   "source": [
    "## Add memory so that you can have a conversation with the bot"
   ]
  },
  {
   "cell_type": "code",
   "execution_count": 23,
   "metadata": {},
   "outputs": [
    {
     "name": "stdout",
     "output_type": "stream",
     "text": [
      "As of 2024, the estimated population of New York is 19,867,248.\n"
     ]
    }
   ],
   "source": [
    "from llama_index.core.chat_engine import ContextChatEngine\n",
    "from llama_index.core.memory import ChatMemoryBuffer\n",
    "\n",
    "# Get retriever from the index\n",
    "retriever = index.as_retriever()\n",
    "\n",
    "# Set up memory\n",
    "memory = ChatMemoryBuffer.from_defaults(token_limit=2000)\n",
    "\n",
    "# Create chat engine with memory\n",
    "chat_engine = ContextChatEngine.from_defaults(\n",
    "    retriever=retriever,\n",
    "    memory=memory,\n",
    "    llm=OpenAI(model=\"gpt-4o\"),\n",
    ")\n",
    "\n",
    "# Then to query:\n",
    "response = chat_engine.chat(\"What is the population of New York?\")\n",
    "print(response.response)"
   ]
  },
  {
   "cell_type": "code",
   "execution_count": 24,
   "metadata": {},
   "outputs": [
    {
     "name": "stdout",
     "output_type": "stream",
     "text": [
      "As of 2024, the population of California is 39,431,263.\n"
     ]
    }
   ],
   "source": [
    "response = chat_engine.chat(\"What about California?\")\n",
    "print(response.response)"
   ]
  }
 ],
 "metadata": {
  "kernelspec": {
   "display_name": "myvenv",
   "language": "python",
   "name": "python3"
  },
  "language_info": {
   "codemirror_mode": {
    "name": "ipython",
    "version": 3
   },
   "file_extension": ".py",
   "mimetype": "text/x-python",
   "name": "python",
   "nbconvert_exporter": "python",
   "pygments_lexer": "ipython3",
   "version": "3.12.9"
  }
 },
 "nbformat": 4,
 "nbformat_minor": 2
}
