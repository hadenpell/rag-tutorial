{
 "cells": [
  {
   "cell_type": "code",
   "execution_count": 1,
   "metadata": {},
   "outputs": [],
   "source": [
    "import nest_asyncio\n",
    "import os\n",
    "\n",
    "from llama_index.llms.openai import OpenAI\n",
    "from llama_index.indices.managed.llama_cloud import LlamaCloudIndex\n",
    "\n",
    "from IPython.display import display, Markdown\n",
    "\n",
    "from llama_index.core.tools import QueryEngineTool"
   ]
  },
  {
   "cell_type": "code",
   "execution_count": 2,
   "metadata": {},
   "outputs": [],
   "source": [
    "nest_asyncio.apply()"
   ]
  },
  {
   "cell_type": "code",
   "execution_count": 3,
   "metadata": {},
   "outputs": [],
   "source": [
    "index = LlamaCloudIndex(\n",
    "  name=os.getenv(\"INDEX_NAME\"), \n",
    "  project_name=\"Default\",\n",
    "  organization_id=os.getenv(\"ORG_ID\"),\n",
    "  api_key=os.getenv(\"LLAMA_API_KEY\")\n",
    ")"
   ]
  },
  {
   "cell_type": "code",
   "execution_count": 4,
   "metadata": {},
   "outputs": [],
   "source": [
    "query = \"What about DC?\""
   ]
  },
  {
   "cell_type": "code",
   "execution_count": 5,
   "metadata": {},
   "outputs": [],
   "source": [
    "response = index.as_query_engine().query(query)"
   ]
  },
  {
   "cell_type": "code",
   "execution_count": 6,
   "metadata": {},
   "outputs": [
    {
     "data": {
      "text/plain": [
       "Response(response='Washington, D.C. is the capital city and federal district of the United States. It was named after George Washington, the first president of the United States, and is not part of any state. The city was founded in 1791 and serves as the seat of the U.S. federal government. Washington, D.C. is known for its historical significance, hosting various national monuments, museums, and government buildings. Additionally, the city is recognized for its diverse culture, arts scene, cuisine, and as a major political and tourist destination.', source_nodes=[NodeWithScore(node=TextNode(id_='ae60a1cf-3908-42da-9f4c-b03a65ecb43c', embedding=None, metadata={'file_size': 11044517, 'last_modified_at': '2025-06-04T01:17:11', 'file_path': 'WashingtonDC.pdf', 'file_name': 'WashingtonDC.pdf', 'external_file_id': 'WashingtonDC.pdf', 'file_id': '34411ea9-e9a0-42a8-99e3-9bffa66cdc7c', 'pipeline_file_id': 'd35565a2-3a29-436f-8166-380a9162e833', 'pipeline_id': '2d505467-8390-4301-8d86-69b37e2f7786', 'page_label': 1, 'start_page_index': 0, 'start_page_label': 1, 'end_page_index': 0, 'end_page_label': 1, 'document_id': 'ce0faabee0c811d66b23f4289afc9a0e8e6738da748cb61596', 'start_char_idx': 0, 'end_char_idx': 2479}, excluded_embed_metadata_keys=['file_id', 'pipeline_file_id', 'file_size', 'last_modified_at', 'file_id', 'pipeline_file_id', 'file_size', 'last_modified_at', 'start_page_index', 'start_page_label', 'page_label', 'end_page_index', 'end_page_label', 'document_id', 'file_id', 'pipeline_file_id'], excluded_llm_metadata_keys=['file_id', 'pipeline_file_id', 'file_size', 'last_modified_at', 'file_id', 'pipeline_file_id', 'file_size', 'last_modified_at', 'start_page_index', 'start_page_label', 'page_label', 'end_page_index', 'end_page_label', 'document_id', 'file_id', 'pipeline_file_id'], relationships={<NodeRelationship.SOURCE: '1'>: RelatedNodeInfo(node_id='ce0faabee0c811d66b23f4289afc9a0e8e6738da748cb61596', node_type='4', metadata={'file_size': 11044517, 'last_modified_at': '2025-06-04T01:17:11', 'file_path': 'WashingtonDC.pdf', 'file_name': 'WashingtonDC.pdf', 'external_file_id': 'WashingtonDC.pdf', 'file_id': '34411ea9-e9a0-42a8-99e3-9bffa66cdc7c', 'pipeline_file_id': 'd35565a2-3a29-436f-8166-380a9162e833', 'pipeline_id': '2d505467-8390-4301-8d86-69b37e2f7786'}, hash='8d394f35be4a5940d4ee27148337404c539855495ba59378054a207a85177ac3'), <NodeRelationship.NEXT: '3'>: RelatedNodeInfo(node_id='1370207a-301d-42df-bee9-fd6876cdb803', node_type='1', metadata={'page_label': 2, 'file_path': 'WashingtonDC.pdf', 'file_name': 'WashingtonDC.pdf', 'external_file_id': 'WashingtonDC.pdf', 'pipeline_id': '2d505467-8390-4301-8d86-69b37e2f7786'}, hash='9807572c7fd6a37ece041539a3c6abb96936a419a48fb1125e7edd8265b0243f')}, metadata_template='{key}: {value}', metadata_separator='\\n', text=\"# Washington, D.C.\\n\\nWashington, D.C., formally the District of Columbia and commonly known as Washington or D.C., is the capital city and federal district of the United States. The city is on the Potomac River, across from Virginia, and shares land borders with Maryland to its north and east. It was named after George Washington, the first president of the United States. The district is named for Columbia, the female personification of the nation.\\n\\n# Federal capital city and district\\n\\nThe U.S. Constitution in 1789 called for the creation of a federal district under exclusive jurisdiction of the U.S. Congress. As such, Washington, D.C., is not part of any state, and is not one itself. The Residence Act, adopted on July 16, 1790, approved the creation of the capital district along the Potomac River. The city was founded in 1791, and the 6th Congress held the first session in the unfinished Capitol Building in 1800 after the capital moved from Philadelphia.\\n\\nIn 1801, the District of Columbia, formerly part of Maryland and Virginia and including the existing settlements of Georgetown and Alexandria, was officially recognized as the federal district; initially, the city was a separate settlement within the larger district. In 1846, Congress reduced the size of the district when it returned the land originally ceded by Virginia, including the city of Alexandria. In 1871, it created a single municipality for the district. There have been several unsuccessful efforts to make the district into a state since the 1880s; a statehood bill passed the House of Representatives in 2021 but was not adopted by the U.S. Senate. To become law, it would have to be passed by the Senate and signed by the president; it would have renamed the city Washington, Douglass Commonwealth and shrunk the Federal District to about the size of the National Mall.\\n\\nDesigned in 1791 by Pierre Charles L'Enfant, the city is divided into quadrants, which are centered on the Capitol Building and include 131 neighborhoods. As of the 2020 census, the city had a population of 689,545.3 Commuters from the city's Maryland and Virginia suburbs raise the city's daytime population to more than one million during the day.\\n\\nFrom top, left to right: The U.S. Capitol, the Washington Monument and Lincoln Memorial on the National Mall, Washington National Cathedral, Washington Metro, storefronts in Adams Morgan, Air and Space Museum, White House.\\n\\nhttps://en.wikipedia.org/wiki/Washington,_D.C.\", mimetype='text/plain', start_char_idx=0, end_char_idx=2480, metadata_seperator='\\n', text_template='{metadata_str}\\n\\n{content}'), score=0.6266047), NodeWithScore(node=TextNode(id_='cef865dd-73fe-49fd-81c9-863bc37ec144', embedding=None, metadata={'file_size': 11044517, 'last_modified_at': '2025-06-04T01:17:11', 'file_path': 'WashingtonDC.pdf', 'file_name': 'WashingtonDC.pdf', 'external_file_id': 'WashingtonDC.pdf', 'file_id': '34411ea9-e9a0-42a8-99e3-9bffa66cdc7c', 'pipeline_file_id': 'd35565a2-3a29-436f-8166-380a9162e833', 'pipeline_id': '2d505467-8390-4301-8d86-69b37e2f7786', 'page_label': 58, 'start_page_index': 57, 'start_page_label': 58, 'end_page_index': 57, 'end_page_label': 58, 'document_id': 'ce0faabee0c811d66b23f4289afc9a0e8e6738da748cb61596', 'start_char_idx': 322966, 'end_char_idx': 325867}, excluded_embed_metadata_keys=['file_id', 'pipeline_file_id', 'file_size', 'last_modified_at', 'file_id', 'pipeline_file_id', 'file_size', 'last_modified_at', 'start_page_index', 'start_page_label', 'page_label', 'end_page_index', 'end_page_label', 'document_id', 'file_id', 'pipeline_file_id'], excluded_llm_metadata_keys=['file_id', 'pipeline_file_id', 'file_size', 'last_modified_at', 'file_id', 'pipeline_file_id', 'file_size', 'last_modified_at', 'start_page_index', 'start_page_label', 'page_label', 'end_page_index', 'end_page_label', 'document_id', 'file_id', 'pipeline_file_id'], relationships={<NodeRelationship.SOURCE: '1'>: RelatedNodeInfo(node_id='ce0faabee0c811d66b23f4289afc9a0e8e6738da748cb61596', node_type='4', metadata={'file_size': 11044517, 'last_modified_at': '2025-06-04T01:17:11', 'file_path': 'WashingtonDC.pdf', 'file_name': 'WashingtonDC.pdf', 'external_file_id': 'WashingtonDC.pdf', 'file_id': '34411ea9-e9a0-42a8-99e3-9bffa66cdc7c', 'pipeline_file_id': 'd35565a2-3a29-436f-8166-380a9162e833', 'pipeline_id': '2d505467-8390-4301-8d86-69b37e2f7786'}, hash='8d394f35be4a5940d4ee27148337404c539855495ba59378054a207a85177ac3'), <NodeRelationship.PREVIOUS: '2'>: RelatedNodeInfo(node_id='d392a9a8-7686-43fa-a01b-3047a1766954', node_type='1', metadata={'file_size': 11044517, 'last_modified_at': '2025-06-04T01:17:11', 'file_path': 'WashingtonDC.pdf', 'file_name': 'WashingtonDC.pdf', 'external_file_id': 'WashingtonDC.pdf', 'file_id': '34411ea9-e9a0-42a8-99e3-9bffa66cdc7c', 'pipeline_file_id': 'd35565a2-3a29-436f-8166-380a9162e833', 'pipeline_id': '2d505467-8390-4301-8d86-69b37e2f7786', 'page_label': 57}, hash='5e373f3ba6964c317f475fbf5e0fa3be2b42874ad64c9d1dddb3725aae7fdeb0'), <NodeRelationship.NEXT: '3'>: RelatedNodeInfo(node_id='3860eac3-9e48-464a-b830-5bfbd892c6bf', node_type='1', metadata={'page_label': 59, 'file_path': 'WashingtonDC.pdf', 'file_name': 'WashingtonDC.pdf', 'external_file_id': 'WashingtonDC.pdf', 'pipeline_id': '2d505467-8390-4301-8d86-69b37e2f7786'}, hash='0383da6f840e39e2a6f3878756fa0698317b29da7f5d3e9313e7303779f62e60')}, metadata_template='{key}: {value}', metadata_separator='\\n', text='# Washington, D.C. - Wikipedia\\n\\n# References\\n\\n1. \"MCM History\". Marine Corps Marathon. Archived from the original http://www.marinemarathon.com/MCM_Vault/MCM_History.htm on January 19, 2015. Retrieved May 18, 2011.\\n2. \"NBC Sports Washington is Becoming Monumental Sports Network\". Washington Capitals. June 21, 2023. Archived from the original https://www.nhl.com/capitals/news/nbc-sports-washington-is-becoming-monumental-sports-network/c-344952710 on June 21, 2023. Retrieved June 21, 2023.\\n3. \"DC Home Rule\". Council of the District of Columbia. Archived from the original http://www.dccouncil.washington.dc.us/pages/dc-home-rule on November 17, 2011. Retrieved December 3, 2011.\\n4. \"Presidential voting trends in the District of Columbia\". Ballotpedia. Retrieved August 28, 2024.\\n5. \"Current Elected Officials in DC\". D.C. Board of Elections and Ethics. Archived from the original http://www.dcboee.org/candidate_info/elected_officials/elected.asp on December 13, 2011. Retrieved January 11, 2012.\\n6. \"About ANC\". Government of the District of Columbia. Archived from the original http://anc.dc.gov/page/about-anc on September 15, 2012. Retrieved September 22, 2012.\\n7. \"§ 1–204.35. Election of the Attorney General\". Code of the District of Columbia (Unofficial). Open Law DC. Archived from the original http://dccode.org/simple/sections/1-204.35.html on January 2, 2015. Retrieved January 2, 2015.\\n8. Glaser, Jason (2003). Washington, D.C.. Capstone. p. 55. ISBN 978-0-7368-2204-6.\\n9. \"UNPO: District of Columbia (Washington, DC)\". unpo.org. December 4, 2015. Archived from the original https://unpo.org/members/18770 on October 23, 2019. Retrieved November 4, 2021.\\n10. \"Why \\'Inside the Beltway\\' Is a Target of Populists\". The Wall Street Journal. November 17, 2017. Archived from the original https://www.wsj.com/articles/the-beltway-as-a-target-of-populists-1510871274 on May 11, 2018. Retrieved April 8, 2022.\\n11. \"Building the Best Capital City in the World\" (PDF). DC Appleseed. Archived from the original http://www.dcappleseed.org/library/DC%20Appleseed%20Report.FINAL.pdf (PDF) on May 11, 2011. Retrieved February 5, 2011.\\n12. \"District of Columbia Structural Imbalance and Management Issues\" (PDF). Government Accountability Office. May 2003. Archived from the original http://www.gao.gov/new.items/d03666.pdf (PDF) on February 2, 2011. Retrieved February 5, 2011.\\n13. Powell, Michael (July 20, 2007). \"Poor Management, Federal Rule, Undermine Services\". The Washington Post. p. A01. Archived from the original http://www.washingtonpost.com/wp-srv/local/longterm/library/dc/mismanage/manage20.htm on May 4, 2011. Retrieved June 10, 2008.\\n14. DeParle, Jason (January 1, 1989). \"The worst city government in America\". The Washington Monthly. Archived from the original http://www.thefreelibrary.com/The+worst+city+government+in+America-a06977500 on April 30, 2011. Retrieved June 6, 2009.', mimetype='text/plain', start_char_idx=161483, end_char_idx=164385, metadata_seperator='\\n', text_template='{metadata_str}\\n\\n{content}'), score=0.49523994), NodeWithScore(node=TextNode(id_='6833301c-7168-43a9-8d2d-5fdf5f4e3e66', embedding=None, metadata={'file_size': 11044517, 'last_modified_at': '2025-06-04T01:17:11', 'file_path': 'WashingtonDC.pdf', 'file_name': 'WashingtonDC.pdf', 'external_file_id': 'WashingtonDC.pdf', 'file_id': '34411ea9-e9a0-42a8-99e3-9bffa66cdc7c', 'pipeline_file_id': 'd35565a2-3a29-436f-8166-380a9162e833', 'pipeline_id': '2d505467-8390-4301-8d86-69b37e2f7786', 'page_label': 20, 'start_page_index': 19, 'start_page_label': 20, 'end_page_index': 19, 'end_page_label': 20, 'document_id': 'ce0faabee0c811d66b23f4289afc9a0e8e6738da748cb61596', 'start_char_idx': 103802, 'end_char_idx': 106685}, excluded_embed_metadata_keys=['file_id', 'pipeline_file_id', 'file_size', 'last_modified_at', 'file_id', 'pipeline_file_id', 'file_size', 'last_modified_at', 'start_page_index', 'start_page_label', 'page_label', 'end_page_index', 'end_page_label', 'document_id', 'file_id', 'pipeline_file_id'], excluded_llm_metadata_keys=['file_id', 'pipeline_file_id', 'file_size', 'last_modified_at', 'file_id', 'pipeline_file_id', 'file_size', 'last_modified_at', 'start_page_index', 'start_page_label', 'page_label', 'end_page_index', 'end_page_label', 'document_id', 'file_id', 'pipeline_file_id'], relationships={<NodeRelationship.SOURCE: '1'>: RelatedNodeInfo(node_id='ce0faabee0c811d66b23f4289afc9a0e8e6738da748cb61596', node_type='4', metadata={'file_size': 11044517, 'last_modified_at': '2025-06-04T01:17:11', 'file_path': 'WashingtonDC.pdf', 'file_name': 'WashingtonDC.pdf', 'external_file_id': 'WashingtonDC.pdf', 'file_id': '34411ea9-e9a0-42a8-99e3-9bffa66cdc7c', 'pipeline_file_id': 'd35565a2-3a29-436f-8166-380a9162e833', 'pipeline_id': '2d505467-8390-4301-8d86-69b37e2f7786'}, hash='8d394f35be4a5940d4ee27148337404c539855495ba59378054a207a85177ac3'), <NodeRelationship.PREVIOUS: '2'>: RelatedNodeInfo(node_id='3e3de9de-4d24-4d8f-9381-d147cf3abe3a', node_type='1', metadata={'file_size': 11044517, 'last_modified_at': '2025-06-04T01:17:11', 'file_path': 'WashingtonDC.pdf', 'file_name': 'WashingtonDC.pdf', 'external_file_id': 'WashingtonDC.pdf', 'file_id': '34411ea9-e9a0-42a8-99e3-9bffa66cdc7c', 'pipeline_file_id': 'd35565a2-3a29-436f-8166-380a9162e833', 'pipeline_id': '2d505467-8390-4301-8d86-69b37e2f7786', 'page_label': 19}, hash='85c7783b78b46825a994798899af78b1f2bcd3e48ea7ceb2ef55e687528a3dfb'), <NodeRelationship.NEXT: '3'>: RelatedNodeInfo(node_id='8e9eab43-3592-4648-bd7e-c0d9c472fa53', node_type='1', metadata={'page_label': 21, 'file_path': 'WashingtonDC.pdf', 'file_name': 'WashingtonDC.pdf', 'external_file_id': 'WashingtonDC.pdf', 'pipeline_id': '2d505467-8390-4301-8d86-69b37e2f7786'}, hash='989dc3aa4215f326b53c59cf1b356e51bbc29ec3b926676126523f490160106e')}, metadata_template='{key}: {value}', metadata_separator='\\n', text=\"# Culture\\n\\n# Arts\\n\\nWashington, D.C., is a national center for the arts, home to several concert halls and theaters. The John F. Kennedy Center for the Performing Arts is home to National Symphony Orchestra, Washington National Opera, and the Washington Ballet. The Kennedy Center Honors are awarded each year to those in the performing arts who have contributed greatly to the cultural life of the United States. This ceremony is often attended by the sitting U.S. president and other dignitaries and celebrities.[189] The Kennedy Center also awards the annual Mark Twain Prize for American Humor.[190]\\n\\nThe historic Ford's Theatre, the site of the assassination of President Abraham Lincoln on April 14, 1865, continues to function as a theatre and as a museum.[191]\\n\\nThe Marine Barracks near Capitol Hill houses the United States Marine Band; founded in 1798, it is the country's oldest professional musical organization.[192] American composer and Washington-native John Philip Sousa led the Marine Band from 1880 until 1892.[193] Founded in 1925, the United States Navy Band has its headquarters at the Washington Navy Yard and performs at official events and public concerts around the city.[194]\\n\\nFounded in 1950, Arena Stage achieved national attention and spurred growth in the city's independent theater movement, which now includes the Shakespeare Theatre Company, Woolly Mammoth Theatre Company, and Studio Theatre.[195] Arena Stage reopened after a renovation and expansion in the city's emerging Southwest waterfront area in 2010.[196] The GALA Hispanic Theatre, now housed in the historic Tivoli Theatre in Columbia Heights, was founded in 1976 and is a National Center for the Latino Performing Arts.[197]\\n\\n# Other performing arts spaces\\n\\nOther performing arts spaces in the city include the Andrew W. Mellon Auditorium in Federal Triangle, the Atlas Performing Arts Center on H Street, the Carter Barron Amphitheater in Rock Creek Park, Constitution Hall in Downtown, the Keegan Theatre in Dupont Circle, the Lisner Auditorium in Foggy Bottom, the Sylvan Theater on the National Mall, and the DC Route marker.\\n\\n# Symbols of District of Columbia\\n\\n| Slogan             | Federal City          |\\n| ------------------ | --------------------- |\\n| Living insignia    |                       |\\n| Bird               | Wood Thrush           |\\n| Crustacean         | Hay's Spring amphipod |\\n| Fish               | American shad         |\\n| Flower             | American Beauty rose  |\\n| Mammal             | Little brown bat      |\\n| Tree               | Scarlet Oak           |\\n| Inanimate insignia |                       |\\n| Beverage           | Rickey\\\\[188]          |\\n| Dance              | Hand dancing          |\\n| Dinosaur           | Capitalsaurus         |\\n| Food               | Cherry                |\\n| Rock               | Potomac bluestone     |\\n\\nReleased in 2009\", mimetype='text/plain', start_char_idx=51901, end_char_idx=54785, metadata_seperator='\\n', text_template='{metadata_str}\\n\\n{content}'), score=0.4651208), NodeWithScore(node=TextNode(id_='f68c47f1-1e44-49d4-ba49-06da1e3f2a2b', embedding=None, metadata={'file_size': 11044517, 'last_modified_at': '2025-06-04T01:17:11', 'file_path': 'WashingtonDC.pdf', 'file_name': 'WashingtonDC.pdf', 'external_file_id': 'WashingtonDC.pdf', 'file_id': '34411ea9-e9a0-42a8-99e3-9bffa66cdc7c', 'pipeline_file_id': 'd35565a2-3a29-436f-8166-380a9162e833', 'pipeline_id': '2d505467-8390-4301-8d86-69b37e2f7786', 'page_label': 22, 'start_page_index': 21, 'start_page_label': 22, 'end_page_index': 21, 'end_page_label': 22, 'document_id': 'ce0faabee0c811d66b23f4289afc9a0e8e6738da748cb61596', 'start_char_idx': 114846, 'end_char_idx': 117651}, excluded_embed_metadata_keys=['file_id', 'pipeline_file_id', 'file_size', 'last_modified_at', 'file_id', 'pipeline_file_id', 'file_size', 'last_modified_at', 'start_page_index', 'start_page_label', 'page_label', 'end_page_index', 'end_page_label', 'document_id', 'file_id', 'pipeline_file_id'], excluded_llm_metadata_keys=['file_id', 'pipeline_file_id', 'file_size', 'last_modified_at', 'file_id', 'pipeline_file_id', 'file_size', 'last_modified_at', 'start_page_index', 'start_page_label', 'page_label', 'end_page_index', 'end_page_label', 'document_id', 'file_id', 'pipeline_file_id'], relationships={<NodeRelationship.SOURCE: '1'>: RelatedNodeInfo(node_id='ce0faabee0c811d66b23f4289afc9a0e8e6738da748cb61596', node_type='4', metadata={'file_size': 11044517, 'last_modified_at': '2025-06-04T01:17:11', 'file_path': 'WashingtonDC.pdf', 'file_name': 'WashingtonDC.pdf', 'external_file_id': 'WashingtonDC.pdf', 'file_id': '34411ea9-e9a0-42a8-99e3-9bffa66cdc7c', 'pipeline_file_id': 'd35565a2-3a29-436f-8166-380a9162e833', 'pipeline_id': '2d505467-8390-4301-8d86-69b37e2f7786'}, hash='8d394f35be4a5940d4ee27148337404c539855495ba59378054a207a85177ac3'), <NodeRelationship.PREVIOUS: '2'>: RelatedNodeInfo(node_id='8e9eab43-3592-4648-bd7e-c0d9c472fa53', node_type='1', metadata={'file_size': 11044517, 'last_modified_at': '2025-06-04T01:17:11', 'file_path': 'WashingtonDC.pdf', 'file_name': 'WashingtonDC.pdf', 'external_file_id': 'WashingtonDC.pdf', 'file_id': '34411ea9-e9a0-42a8-99e3-9bffa66cdc7c', 'pipeline_file_id': 'd35565a2-3a29-436f-8166-380a9162e833', 'pipeline_id': '2d505467-8390-4301-8d86-69b37e2f7786', 'page_label': 21}, hash='caa4573b662f535655c8fee7f4a47a61513637f416495418dc83dde448d669a2'), <NodeRelationship.NEXT: '3'>: RelatedNodeInfo(node_id='b66a65a2-bb49-4aec-a696-c3a55f01f86c', node_type='1', metadata={'page_label': 23, 'file_path': 'WashingtonDC.pdf', 'file_name': 'WashingtonDC.pdf', 'external_file_id': 'WashingtonDC.pdf', 'pipeline_id': '2d505467-8390-4301-8d86-69b37e2f7786'}, hash='eef118209cc75e5502208936bd75b6e672e2dcaabfb12db05a1592f01f66fbc2')}, metadata_template='{key}: {value}', metadata_separator='\\n', text='# Cuisine\\n\\nWashington, D.C., is rich in fine and casual dining; some consider it among the country\\'s best cities for dining.[207] The city has a diverse range of restaurants, including a wide variety of international cuisines. The city\\'s Chinatown, for example, has more than a dozen Chinese-style restaurants. The city also has many Middle Eastern, European, African, Asian, and Latin American cuisine options. D.C. is known as one of the best cities in the world for Ethiopian cuisine, due largely to Ethiopian immigrants who arrived in the 20th century.[208] A part of the Shaw neighborhood in central D.C. is known as \"Little Ethiopia\" and has a high concentration of Ethiopian restaurants and shops.[209] The diversity of cuisine is also reflected in the city\\'s many food trucks, which are particularly heavily concentrated along the National Mall, which has few other dining options.\\n\\nAmong the most notable Washington, D.C.-born foods is the half-smoke, a half-beef, half-pork sausage placed in a hotdog-style bun and topped with onion, chili, and cheese.[210] The city is also the birthplace of mumbo sauce, a condiment similar to barbecue sauce but sweeter in flavor, often used on meat and french fries.[211][212] Washington, D.C. is known for popularizing the jumbo slice pizza, a large New York-style pizza[213][214][215] with roots in the Adams Morgan neighborhood.[216]\\n\\nAmong the city\\'s signature restaurants is Ben\\'s Chili Bowl, located on U Street since its founding in 1958. The restaurant rose to prominence as a peaceful escape during the violent 1968 race riots in the city. Famous for its chili dogs and half-smokes, it has been visited by numerous presidents and celebrities over the years.[217] The Georgetown Cupcake bakery became famous through its appearance on the reality T.V. show DC Cupcakes. Another culinary hotspot is Union Market in Northeast D.C., a former farmer\\'s market and wholesale that now houses a large, gourmet food hall.[218]\\n\\nAs of 2024, 25 restaurants[j] have received stars in the D.C. Michelin Guide.[219] This represents the most starred restaurants per capita for any U.S. city, and the third-most in the world.[220] Several celebrity chefs have opened restaurants in the city, including José Andrés,[221] Kwame Onwuachi,[222] Gordon Ramsay,[223][224] and previously Michel Richard.[225]\\n\\n# Museums\\n\\nWashington, D.C. is home to several of the country\\'s and world\\'s most visited museums. In 2022, the National Museum of Natural History and the National Gallery of Art were the two most visited museums in the country. Overall, Washington had eight of the 28 most visited museums in the U.S. in 2022. The same year, the National Museum of Natural History was the fifth-most-visited museum in the world and the National Gallery of Art was the eleventh.[226]', mimetype='text/plain', start_char_idx=57423, end_char_idx=60229, metadata_seperator='\\n', text_template='{metadata_str}\\n\\n{content}'), score=0.46395484), NodeWithScore(node=TextNode(id_='6f2c5466-f7a4-4184-9038-a2ff6eae9aa8', embedding=None, metadata={'file_size': 11044517, 'last_modified_at': '2025-06-04T01:17:11', 'file_path': 'WashingtonDC.pdf', 'file_name': 'WashingtonDC.pdf', 'external_file_id': 'WashingtonDC.pdf', 'file_id': '34411ea9-e9a0-42a8-99e3-9bffa66cdc7c', 'pipeline_file_id': 'd35565a2-3a29-436f-8166-380a9162e833', 'pipeline_id': '2d505467-8390-4301-8d86-69b37e2f7786', 'page_label': 34, 'start_page_index': 33, 'start_page_label': 34, 'end_page_index': 33, 'end_page_label': 34, 'document_id': 'ce0faabee0c811d66b23f4289afc9a0e8e6738da748cb61596', 'start_char_idx': 176996, 'end_char_idx': 180128}, excluded_embed_metadata_keys=['file_id', 'pipeline_file_id', 'file_size', 'last_modified_at', 'file_id', 'pipeline_file_id', 'file_size', 'last_modified_at', 'start_page_index', 'start_page_label', 'page_label', 'end_page_index', 'end_page_label', 'document_id', 'file_id', 'pipeline_file_id'], excluded_llm_metadata_keys=['file_id', 'pipeline_file_id', 'file_size', 'last_modified_at', 'file_id', 'pipeline_file_id', 'file_size', 'last_modified_at', 'start_page_index', 'start_page_label', 'page_label', 'end_page_index', 'end_page_label', 'document_id', 'file_id', 'pipeline_file_id'], relationships={<NodeRelationship.SOURCE: '1'>: RelatedNodeInfo(node_id='ce0faabee0c811d66b23f4289afc9a0e8e6738da748cb61596', node_type='4', metadata={'file_size': 11044517, 'last_modified_at': '2025-06-04T01:17:11', 'file_path': 'WashingtonDC.pdf', 'file_name': 'WashingtonDC.pdf', 'external_file_id': 'WashingtonDC.pdf', 'file_id': '34411ea9-e9a0-42a8-99e3-9bffa66cdc7c', 'pipeline_file_id': 'd35565a2-3a29-436f-8166-380a9162e833', 'pipeline_id': '2d505467-8390-4301-8d86-69b37e2f7786'}, hash='8d394f35be4a5940d4ee27148337404c539855495ba59378054a207a85177ac3'), <NodeRelationship.PREVIOUS: '2'>: RelatedNodeInfo(node_id='5171d0bb-388f-45aa-a068-5214d4200a8c', node_type='1', metadata={'file_size': 11044517, 'last_modified_at': '2025-06-04T01:17:11', 'file_path': 'WashingtonDC.pdf', 'file_name': 'WashingtonDC.pdf', 'external_file_id': 'WashingtonDC.pdf', 'file_id': '34411ea9-e9a0-42a8-99e3-9bffa66cdc7c', 'pipeline_file_id': 'd35565a2-3a29-436f-8166-380a9162e833', 'pipeline_id': '2d505467-8390-4301-8d86-69b37e2f7786', 'page_label': 33}, hash='d8eafa2716da50276ee7c77b1f621f32ff0401775607f8daf9fe4312cb78f3a9'), <NodeRelationship.NEXT: '3'>: RelatedNodeInfo(node_id='7ff6daab-41fc-4096-8d76-b00ce5279bc4', node_type='1', metadata={'page_label': 35, 'file_path': 'WashingtonDC.pdf', 'file_name': 'WashingtonDC.pdf', 'external_file_id': 'WashingtonDC.pdf', 'pipeline_id': '2d505467-8390-4301-8d86-69b37e2f7786'}, hash='59f935b9dd36ede938a9984d1f7a4cb1bea748c2aa9fa3c32bb6a4ffd85275fa')}, metadata_template='{key}: {value}', metadata_separator='\\n', text=\"# Washington, D.C. - Wikipedia\\n\\n# Bus\\n\\nTwo main public bus systems operate in Washington, D.C. Metrobus, operated by the Washington Metropolitan Area Transit Authority (WMATA), is the primary public bus system in Washington, D.C. Serving more than 400,000 riders each weekday, it is one of the nation's largest bus systems by annual ridership.[339] The city also operates its own DC Circulator bus system, which connects commercial and touristic areas within central Washington.[340] The DC Circulator costs only $1 to ride and is composed of six distinct routes that cover central D.C. and suburban Rosslyn, Virginia. The DC Circulator is run via a public-private partnership between the District of Columbia Department of Transportation, WMATA, and DC Surface Transit, Inc. (DCST). The bus system services each stop approximately every 10 minutes.[341]\\n\\nThere are also numerous commuter buses that residents of the wider Washington region take to commute into the city for work or other events, such as the Loudoun County Transit Commuter Bus and the Maryland Transit Administration Commuter Bus.[342] The city also has several bus lines used by tourists and others visiting the city, including Big Bus Tours, Old Town Trolley Tours, and DC Trails. Many tourists also arrive via charter buses. Following renovations in 2011, Union Station became Washington's primary intercity bus transit center.[343]\\n\\n# Air\\n\\nThree major airports serve the district, though none are within the city's borders. Two of these major airports are located in suburban Northern Virginia and one in suburban Maryland. The closest is Ronald Reagan Washington National Airport, which is located in Arlington County, Virginia, just across the Potomac River about 5 miles (8 km) from downtown Washington, D.C. This airport provides primarily domestic flights and has the lowest number of passengers of the three airports in the region. The busiest by number of total passengers is Baltimore/Washington International Airport (BWI), located in Anne Arundel County, Maryland about 30 miles (48 km) northeast of the city.[344] The busiest by international flights and the largest by land size and amount of facilities is Washington Dulles International Airport, located in Dulles, Virginia, about 24 miles (39 km) west of the city.[345] Dulles has the most international passenger traffic of any airport in the Mid-Atlantic outside the New York metropolitan area, including approximately 90% of the international passenger traffic in the Washington-Baltimore region.[346]\\n\\nEach of these three airports also serves as a hub for a major American airline: Reagan National Airport is a hub for American Airlines,[347] Dulles is a major hub for United Airlines and Star Alliance partners,[348] and BWI is an operating base for Southwest Airlines.[349] In 2018, the Washington, D.C. area was the 18th-busiest airport system in the world by passenger traffic, accumulating over 74 million passengers between its three main commercial airports; by 2022 it had climbed to 13th-busiest for passenger traffic, even though passenger numbers decreased to less than 69 million.\", mimetype='text/plain', start_char_idx=88498, end_char_idx=91631, metadata_seperator='\\n', text_template='{metadata_str}\\n\\n{content}'), score=0.44927242), NodeWithScore(node=TextNode(id_='1370207a-301d-42df-bee9-fd6876cdb803', embedding=None, metadata={'file_size': 11044517, 'last_modified_at': '2025-06-04T01:17:11', 'file_path': 'WashingtonDC.pdf', 'file_name': 'WashingtonDC.pdf', 'external_file_id': 'WashingtonDC.pdf', 'file_id': '34411ea9-e9a0-42a8-99e3-9bffa66cdc7c', 'pipeline_file_id': 'd35565a2-3a29-436f-8166-380a9162e833', 'pipeline_id': '2d505467-8390-4301-8d86-69b37e2f7786', 'page_label': 2, 'start_page_index': 1, 'start_page_label': 2, 'end_page_index': 1, 'end_page_label': 2, 'document_id': 'ce0faabee0c811d66b23f4289afc9a0e8e6738da748cb61596', 'start_char_idx': 4970, 'end_char_idx': 7146}, excluded_embed_metadata_keys=['file_id', 'pipeline_file_id', 'file_size', 'last_modified_at', 'file_id', 'pipeline_file_id', 'file_size', 'last_modified_at', 'start_page_index', 'start_page_label', 'page_label', 'end_page_index', 'end_page_label', 'document_id', 'file_id', 'pipeline_file_id'], excluded_llm_metadata_keys=['file_id', 'pipeline_file_id', 'file_size', 'last_modified_at', 'file_id', 'pipeline_file_id', 'file_size', 'last_modified_at', 'start_page_index', 'start_page_label', 'page_label', 'end_page_index', 'end_page_label', 'document_id', 'file_id', 'pipeline_file_id'], relationships={<NodeRelationship.SOURCE: '1'>: RelatedNodeInfo(node_id='ce0faabee0c811d66b23f4289afc9a0e8e6738da748cb61596', node_type='4', metadata={'file_size': 11044517, 'last_modified_at': '2025-06-04T01:17:11', 'file_path': 'WashingtonDC.pdf', 'file_name': 'WashingtonDC.pdf', 'external_file_id': 'WashingtonDC.pdf', 'file_id': '34411ea9-e9a0-42a8-99e3-9bffa66cdc7c', 'pipeline_file_id': 'd35565a2-3a29-436f-8166-380a9162e833', 'pipeline_id': '2d505467-8390-4301-8d86-69b37e2f7786'}, hash='8d394f35be4a5940d4ee27148337404c539855495ba59378054a207a85177ac3'), <NodeRelationship.PREVIOUS: '2'>: RelatedNodeInfo(node_id='ae60a1cf-3908-42da-9f4c-b03a65ecb43c', node_type='1', metadata={'file_size': 11044517, 'last_modified_at': '2025-06-04T01:17:11', 'file_path': 'WashingtonDC.pdf', 'file_name': 'WashingtonDC.pdf', 'external_file_id': 'WashingtonDC.pdf', 'file_id': '34411ea9-e9a0-42a8-99e3-9bffa66cdc7c', 'pipeline_file_id': 'd35565a2-3a29-436f-8166-380a9162e833', 'pipeline_id': '2d505467-8390-4301-8d86-69b37e2f7786', 'page_label': 1}, hash='8adb8cb9ffbb5f99e1a4238c93b46b3e28a6b9b07cd30704b42ea3f1fc67294b'), <NodeRelationship.NEXT: '3'>: RelatedNodeInfo(node_id='6af591ca-169a-4ac3-b940-510d5b83e14d', node_type='1', metadata={'page_label': 3, 'file_path': 'WashingtonDC.pdf', 'file_name': 'WashingtonDC.pdf', 'external_file_id': 'WashingtonDC.pdf', 'pipeline_id': '2d505467-8390-4301-8d86-69b37e2f7786'}, hash='66fb79e9385cc5311849dbd749a97db9688375d0e4c12b4cfdb7091bbe3e8ebe')}, metadata_template='{key}: {value}', metadata_separator='\\n', text=\"# Washington, D.C. - Wikipedia\\n\\nworkweek.12 The Washington metropolitan area, which includes parts of Maryland, Virginia, and West Virginia, is the country's seventh-largest metropolitan area, with a 2023 population of 6.3 million residents.6 A locally elected mayor and 13-member council have governed the district since 1973, though Congress retains the power to overturn local laws.\\n\\nWashington, D.C., residents do not have voting representation in Congress, but elect a single non-voting congressional delegate to the U.S. House of Representatives. The city's voters choose three presidential electors in accordance with the Twenty-third Amendment, passed in 1961.\\n\\nWashington, D.C., anchors the southern end of the Northeast megalopolis. As the seat of the U.S. federal government, the city is an important world political capital.13 The city hosts buildings that house federal government headquarters, including the White House, U.S. Capitol, Supreme Court Building, and multiple federal departments and agencies. The city is home to many national monuments and museums, located most prominently on or around the National Mall, including the Jefferson Memorial, Lincoln Memorial, and Washington Monument. It hosts 177 foreign embassies and the global headquarters of the World Bank, International Monetary Fund, Organization of American States, and other international organizations. Home to many of the nation's largest industry associations, non-profit organizations, and think tanks, the city is known as a lobbying hub, which is centered on and around K Street.14 It is also among the country's top tourist destinations; in 2022, it drew an estimated 20.7 million domestic15 and 1.2 million international visitors, seventh-most among U.S. cities.16\\n\\n# History\\n\\nThe Algonquian-speaking Piscataway people inhabited present-day Washington, D.C. and lands around the Potomac River when Europeans first arrived and colonized the region in the early 17th century. The Nacotchtank, also called the Nacostines by Catholic missionaries, maintained settlements around the Anacostia River in present-day Washington, D.C. Conflicts with European colonists and neighboring tribes.\", mimetype='text/plain', start_char_idx=2485, end_char_idx=4662, metadata_seperator='\\n', text_template='{metadata_str}\\n\\n{content}'), score=0.44767818)], metadata={'ae60a1cf-3908-42da-9f4c-b03a65ecb43c': {'file_size': 11044517, 'last_modified_at': '2025-06-04T01:17:11', 'file_path': 'WashingtonDC.pdf', 'file_name': 'WashingtonDC.pdf', 'external_file_id': 'WashingtonDC.pdf', 'file_id': '34411ea9-e9a0-42a8-99e3-9bffa66cdc7c', 'pipeline_file_id': 'd35565a2-3a29-436f-8166-380a9162e833', 'pipeline_id': '2d505467-8390-4301-8d86-69b37e2f7786', 'page_label': 1, 'start_page_index': 0, 'start_page_label': 1, 'end_page_index': 0, 'end_page_label': 1, 'document_id': 'ce0faabee0c811d66b23f4289afc9a0e8e6738da748cb61596', 'start_char_idx': 0, 'end_char_idx': 2479}, 'cef865dd-73fe-49fd-81c9-863bc37ec144': {'file_size': 11044517, 'last_modified_at': '2025-06-04T01:17:11', 'file_path': 'WashingtonDC.pdf', 'file_name': 'WashingtonDC.pdf', 'external_file_id': 'WashingtonDC.pdf', 'file_id': '34411ea9-e9a0-42a8-99e3-9bffa66cdc7c', 'pipeline_file_id': 'd35565a2-3a29-436f-8166-380a9162e833', 'pipeline_id': '2d505467-8390-4301-8d86-69b37e2f7786', 'page_label': 58, 'start_page_index': 57, 'start_page_label': 58, 'end_page_index': 57, 'end_page_label': 58, 'document_id': 'ce0faabee0c811d66b23f4289afc9a0e8e6738da748cb61596', 'start_char_idx': 322966, 'end_char_idx': 325867}, '6833301c-7168-43a9-8d2d-5fdf5f4e3e66': {'file_size': 11044517, 'last_modified_at': '2025-06-04T01:17:11', 'file_path': 'WashingtonDC.pdf', 'file_name': 'WashingtonDC.pdf', 'external_file_id': 'WashingtonDC.pdf', 'file_id': '34411ea9-e9a0-42a8-99e3-9bffa66cdc7c', 'pipeline_file_id': 'd35565a2-3a29-436f-8166-380a9162e833', 'pipeline_id': '2d505467-8390-4301-8d86-69b37e2f7786', 'page_label': 20, 'start_page_index': 19, 'start_page_label': 20, 'end_page_index': 19, 'end_page_label': 20, 'document_id': 'ce0faabee0c811d66b23f4289afc9a0e8e6738da748cb61596', 'start_char_idx': 103802, 'end_char_idx': 106685}, 'f68c47f1-1e44-49d4-ba49-06da1e3f2a2b': {'file_size': 11044517, 'last_modified_at': '2025-06-04T01:17:11', 'file_path': 'WashingtonDC.pdf', 'file_name': 'WashingtonDC.pdf', 'external_file_id': 'WashingtonDC.pdf', 'file_id': '34411ea9-e9a0-42a8-99e3-9bffa66cdc7c', 'pipeline_file_id': 'd35565a2-3a29-436f-8166-380a9162e833', 'pipeline_id': '2d505467-8390-4301-8d86-69b37e2f7786', 'page_label': 22, 'start_page_index': 21, 'start_page_label': 22, 'end_page_index': 21, 'end_page_label': 22, 'document_id': 'ce0faabee0c811d66b23f4289afc9a0e8e6738da748cb61596', 'start_char_idx': 114846, 'end_char_idx': 117651}, '6f2c5466-f7a4-4184-9038-a2ff6eae9aa8': {'file_size': 11044517, 'last_modified_at': '2025-06-04T01:17:11', 'file_path': 'WashingtonDC.pdf', 'file_name': 'WashingtonDC.pdf', 'external_file_id': 'WashingtonDC.pdf', 'file_id': '34411ea9-e9a0-42a8-99e3-9bffa66cdc7c', 'pipeline_file_id': 'd35565a2-3a29-436f-8166-380a9162e833', 'pipeline_id': '2d505467-8390-4301-8d86-69b37e2f7786', 'page_label': 34, 'start_page_index': 33, 'start_page_label': 34, 'end_page_index': 33, 'end_page_label': 34, 'document_id': 'ce0faabee0c811d66b23f4289afc9a0e8e6738da748cb61596', 'start_char_idx': 176996, 'end_char_idx': 180128}, '1370207a-301d-42df-bee9-fd6876cdb803': {'file_size': 11044517, 'last_modified_at': '2025-06-04T01:17:11', 'file_path': 'WashingtonDC.pdf', 'file_name': 'WashingtonDC.pdf', 'external_file_id': 'WashingtonDC.pdf', 'file_id': '34411ea9-e9a0-42a8-99e3-9bffa66cdc7c', 'pipeline_file_id': 'd35565a2-3a29-436f-8166-380a9162e833', 'pipeline_id': '2d505467-8390-4301-8d86-69b37e2f7786', 'page_label': 2, 'start_page_index': 1, 'start_page_label': 2, 'end_page_index': 1, 'end_page_label': 2, 'document_id': 'ce0faabee0c811d66b23f4289afc9a0e8e6738da748cb61596', 'start_char_idx': 4970, 'end_char_idx': 7146}})"
      ]
     },
     "execution_count": 6,
     "metadata": {},
     "output_type": "execute_result"
    }
   ],
   "source": [
    "response"
   ]
  },
  {
   "cell_type": "code",
   "execution_count": 7,
   "metadata": {},
   "outputs": [
    {
     "data": {
      "text/plain": [
       "'Washington, D.C. is the capital city and federal district of the United States. It was named after George Washington, the first president of the United States, and is not part of any state. The city was founded in 1791 and serves as the seat of the U.S. federal government. Washington, D.C. is known for its historical significance, hosting various national monuments, museums, and government buildings. Additionally, the city is recognized for its diverse culture, arts scene, cuisine, and as a major political and tourist destination.'"
      ]
     },
     "execution_count": 7,
     "metadata": {},
     "output_type": "execute_result"
    }
   ],
   "source": [
    "response.response"
   ]
  },
  {
   "cell_type": "code",
   "execution_count": null,
   "metadata": {},
   "outputs": [
    {
     "data": {
      "text/markdown": [
       "Washington, D.C. is the capital city and federal district of the United States. It was named after George Washington, the first president of the United States, and is not part of any state. The city was founded in 1791 and serves as the seat of the U.S. federal government. Washington, D.C. is known for its historical significance, hosting various federal government headquarters, national monuments, museums, and international organizations. Additionally, the city is recognized for its diverse culture, arts scene, cuisine, and as a major tourist destination."
      ],
      "text/plain": [
       "<IPython.core.display.Markdown object>"
      ]
     },
     "metadata": {},
     "output_type": "display_data"
    }
   ],
   "source": [
    "display(Markdown(response.response))"
   ]
  },
  {
   "cell_type": "markdown",
   "metadata": {},
   "source": [
    "## Append chat history so that you can have a conversation with the bot"
   ]
  },
  {
   "cell_type": "code",
   "execution_count": 8,
   "metadata": {},
   "outputs": [],
   "source": [
    "llama_cloud_query_engine = index.as_query_engine()"
   ]
  },
  {
   "cell_type": "code",
   "execution_count": 9,
   "metadata": {},
   "outputs": [],
   "source": [
    "llama_cloud_tool = QueryEngineTool.from_defaults(\n",
    "    query_engine=llama_cloud_query_engine,\n",
    "    description=(\n",
    "        f\"Useful for answering semantic questions about certain states in the US.\"\n",
    "    ),\n",
    "    name=\"llama_cloud_tool\"\n",
    ")"
   ]
  },
  {
   "cell_type": "code",
   "execution_count": null,
   "metadata": {},
   "outputs": [],
   "source": [
    "from llama_index.core.agent.workflow import FunctionAgent\n",
    "from llama_index.llms.openai import OpenAI\n",
    "from llama_index.core.workflow import Context"
   ]
  },
  {
   "cell_type": "code",
   "execution_count": 12,
   "metadata": {},
   "outputs": [],
   "source": [
    "agent = FunctionAgent(\n",
    "    name=\"state-guide-usa\",\n",
    "    description= f\"Useful for answering semantic questions about certain states in the US.\",\n",
    "    tools=[llama_cloud_tool],\n",
    "    llm=OpenAI(model=\"gpt-4o-mini\"),\n",
    "    system_prompt=\"You are useful for answering semantic questions about certain states in the US.\",\n",
    ")"
   ]
  },
  {
   "cell_type": "code",
   "execution_count": 13,
   "metadata": {},
   "outputs": [],
   "source": [
    "ctx = Context(agent)"
   ]
  },
  {
   "cell_type": "code",
   "execution_count": 14,
   "metadata": {},
   "outputs": [
    {
     "name": "stdout",
     "output_type": "stream",
     "text": [
      "California has the highest population of any state in the United States.\n"
     ]
    }
   ],
   "source": [
    "response = await agent.run(\n",
    "    user_msg=\"What state has the highest population?\", ctx=ctx\n",
    ")\n",
    "print(str(response))"
   ]
  },
  {
   "cell_type": "code",
   "execution_count": 15,
   "metadata": {},
   "outputs": [
    {
     "name": "stdout",
     "output_type": "stream",
     "text": [
      "The capital of California is Sacramento.\n"
     ]
    }
   ],
   "source": [
    "response = await agent.run(\n",
    "    user_msg=\"What is the capital of that state?\", ctx=ctx\n",
    ")\n",
    "print(str(response))"
   ]
  }
 ],
 "metadata": {
  "kernelspec": {
   "display_name": "myvenv",
   "language": "python",
   "name": "python3"
  },
  "language_info": {
   "codemirror_mode": {
    "name": "ipython",
    "version": 3
   },
   "file_extension": ".py",
   "mimetype": "text/x-python",
   "name": "python",
   "nbconvert_exporter": "python",
   "pygments_lexer": "ipython3",
   "version": "3.12.9"
  }
 },
 "nbformat": 4,
 "nbformat_minor": 2
}
